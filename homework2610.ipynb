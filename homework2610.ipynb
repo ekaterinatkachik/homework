{
 "cells": [
  {
   "cell_type": "code",
   "execution_count": 2,
   "id": "f8bf4536-c1bc-4fa4-a1ac-d6fabd8ad828",
   "metadata": {},
   "outputs": [
    {
     "name": "stdout",
     "output_type": "stream",
     "text": [
      "Requirement already satisfied: flake8 in c:\\users\\ekate\\anaconda3\\lib\\site-packages (7.1.1)\n",
      "Requirement already satisfied: pycodestyle_magic in c:\\users\\ekate\\anaconda3\\lib\\site-packages (0.5)\n",
      "Requirement already satisfied: mccabe<0.8.0,>=0.7.0 in c:\\users\\ekate\\anaconda3\\lib\\site-packages (from flake8) (0.7.0)\n",
      "Requirement already satisfied: pycodestyle<2.13.0,>=2.12.0 in c:\\users\\ekate\\anaconda3\\lib\\site-packages (from flake8) (2.12.1)\n",
      "Requirement already satisfied: pyflakes<3.3.0,>=3.2.0 in c:\\users\\ekate\\anaconda3\\lib\\site-packages (from flake8) (3.2.0)\n"
     ]
    }
   ],
   "source": [
    "!pip3 install flake8 pycodestyle_magic"
   ]
  },
  {
   "cell_type": "code",
   "execution_count": 3,
   "id": "a33412e9-9a1c-49ba-bb2e-4c9c5c67890b",
   "metadata": {},
   "outputs": [],
   "source": [
    "%load_ext pycodestyle_magic"
   ]
  },
  {
   "cell_type": "code",
   "execution_count": 4,
   "id": "f2606124-8550-4bf1-aa6e-e8a6012b19a7",
   "metadata": {},
   "outputs": [],
   "source": [
    "%pycodestyle_on #or %flake8_on"
   ]
  },
  {
   "cell_type": "markdown",
   "id": "65638ace-fcd4-4d3a-9fef-12f8a53be1e8",
   "metadata": {},
   "source": [
    "# Упражнение 1"
   ]
  },
  {
   "cell_type": "code",
   "execution_count": 8,
   "id": "2ae7815f-36e8-41b5-bc7c-e983196cd5ad",
   "metadata": {},
   "outputs": [
    {
     "name": "stdin",
     "output_type": "stream",
     "text": [
      " 5+5\n"
     ]
    },
    {
     "name": "stdout",
     "output_type": "stream",
     "text": [
      "+ 5 5\n",
      "5 5 +\n"
     ]
    }
   ],
   "source": [
    "def perevod(inputt):\n",
    "\n",
    "    znach = []\n",
    "    i = 0\n",
    "    while i < len(inputt):\n",
    "        if inputt[i].isdigit():\n",
    "            zn = ''\n",
    "            while i < len(inputt) and inputt[i].isdigit():\n",
    "                zn += inputt[i]\n",
    "                i += 1\n",
    "            znach.append(zn)\n",
    "        else:\n",
    "            znach.append(inputt[i])\n",
    "            i += 1\n",
    "\n",
    "    def make_tree(start, end):\n",
    "        while start < end and znach[start] == '(' and znach[end - 1] == ')':\n",
    "            d = 0\n",
    "            balans = True\n",
    "            for i in range(start, end):\n",
    "                if znach[i] == '(':\n",
    "                    d += 1\n",
    "                elif znach[i] == ')':\n",
    "                    d -= 1\n",
    "                    if d == 0 and i != end - 1:\n",
    "                        balans = False\n",
    "                        break\n",
    "            if balans and d == 0:\n",
    "                start += 1\n",
    "                end -= 1\n",
    "            else:\n",
    "                break\n",
    "\n",
    "        if start == end - 1:\n",
    "            return znach[start]\n",
    "\n",
    "        d = 0\n",
    "        best = -1\n",
    "        minprec = 10\n",
    "        prec = {'+': 1, '-': 1, '*': 2, '/': 2}\n",
    "        i = end - 1\n",
    "        while i >= start:\n",
    "            if znach[i] == ')':\n",
    "                d += 1\n",
    "            elif znach[i] == '(':\n",
    "                d -= 1\n",
    "            elif d == 0 and znach[i] in prec:\n",
    "                p = prec[znach[i]]\n",
    "                if p < minprec:\n",
    "                    minprec = p\n",
    "                    best = i\n",
    "            i -= 1\n",
    "        return [znach[best], make_tree(start, best), make_tree(best + 1, end)]\n",
    "\n",
    "    tree = make_tree(0, len(znach))\n",
    "\n",
    "    def prefix(t):\n",
    "        if isinstance(t, str):\n",
    "            return [t]\n",
    "        return [t[0]] + prefix(t[1]) + prefix(t[2])\n",
    "\n",
    "    def postfix(t):\n",
    "        if isinstance(t, str):\n",
    "            return [t]\n",
    "        return postfix(t[1]) + postfix(t[2]) + [t[0]]\n",
    "\n",
    "    prefix = \" \".join(prefix(tree))\n",
    "    postfix = \" \".join(postfix(tree))\n",
    "    return prefix, postfix\n",
    "\n",
    "\n",
    "inputt = input()\n",
    "prefix, postfix = perevod(inputt)\n",
    "print(prefix)\n",
    "print(postfix)"
   ]
  },
  {
   "cell_type": "markdown",
   "id": "5fd43dc6-16d4-48b4-9822-61ef7319f854",
   "metadata": {},
   "source": [
    "# Упражнение 2"
   ]
  },
  {
   "cell_type": "code",
   "execution_count": 9,
   "id": "9873a236-803d-4036-92b0-bf5b2d1ad63e",
   "metadata": {},
   "outputs": [
    {
     "name": "stdin",
     "output_type": "stream",
     "text": [
      " 2 3 0 + *\n"
     ]
    },
    {
     "name": "stdout",
     "output_type": "stream",
     "text": [
      "6\n"
     ]
    }
   ],
   "source": [
    "def stek_calc(notation):\n",
    "    znachenia = notation.split()\n",
    "    stek = []\n",
    "    for zn in znachenia:\n",
    "        if zn.isdigit():\n",
    "            stek.append(int(zn))\n",
    "        elif zn in '+-*/':\n",
    "            if len(stek) < 2:\n",
    "                return 'Error: incorrect expression'\n",
    "            b = stek.pop()\n",
    "            a = stek.pop()\n",
    "            if zn == '+':\n",
    "                res = a + b\n",
    "            elif zn == '-':\n",
    "                res = a - b\n",
    "            elif zn == '*':\n",
    "                res = a * b\n",
    "            elif zn == '/':\n",
    "                if b == 0:\n",
    "                    return 'Error: /0'\n",
    "                else:\n",
    "                    res = a/b\n",
    "            stek.append(res)\n",
    "        else:\n",
    "            return 'Error: incorrect expression'\n",
    "    if len(stek) != 1:\n",
    "        return 'Error: incorrect expression'\n",
    "    return stek\n",
    "\n",
    "\n",
    "n = input()\n",
    "print(*stek_calc(n))"
   ]
  },
  {
   "cell_type": "markdown",
   "id": "0e5b1d9d-c79f-43f7-a075-0fc94de9bd7d",
   "metadata": {},
   "source": [
    "# Упражнение 3"
   ]
  },
  {
   "cell_type": "code",
   "execution_count": 17,
   "id": "f820c042-549c-41c4-bd18-c38aa9154f24",
   "metadata": {},
   "outputs": [
    {
     "name": "stdin",
     "output_type": "stream",
     "text": [
      " 2*3+4\n"
     ]
    },
    {
     "name": "stdout",
     "output_type": "stream",
     "text": [
      "2 3 * 4 +\n"
     ]
    }
   ],
   "source": [
    "def sort_station(notation):\n",
    "    stek = []\n",
    "    answer = []\n",
    "    i = 0\n",
    "\n",
    "    while i < len(notation):\n",
    "        if notation[i].isdigit():\n",
    "            number = ''\n",
    "            while i < len(notation) and notation[i].isdigit():\n",
    "                number += notation[i]\n",
    "                i += 1\n",
    "            answer.append(number)\n",
    "            continue\n",
    "\n",
    "        if notation[i] in '+-':\n",
    "            while stek != []:\n",
    "                answer.append(stek.pop())\n",
    "            stek.append(notation[i])\n",
    "\n",
    "        elif notation[i] in '*/':\n",
    "            while stek != [] and stek[-1] in '*/':\n",
    "                answer.append(stek.pop())\n",
    "            stek.append(notation[i])\n",
    "\n",
    "        i += 1\n",
    "\n",
    "    while stek != []:\n",
    "        answer.append(stek.pop())\n",
    "\n",
    "    return answer\n",
    "\n",
    "\n",
    "a = input()\n",
    "print(*sort_station(a))"
   ]
  },
  {
   "cell_type": "markdown",
   "id": "42a76ec7-691b-4bb0-b52e-f3f2c77ce574",
   "metadata": {},
   "source": [
    "# Упражнение 4"
   ]
  },
  {
   "cell_type": "code",
   "execution_count": 19,
   "id": "fb8c9d06-fc44-48d6-be28-88771749ed11",
   "metadata": {},
   "outputs": [
    {
     "name": "stderr",
     "output_type": "stream",
     "text": [
      "87:1: W391 blank line at end of file\n"
     ]
    },
    {
     "name": "stdout",
     "output_type": "stream",
     "text": [
      "100\n",
      "150\n",
      "3\n",
      "2\n"
     ]
    }
   ],
   "source": [
    "class Box:\n",
    "    def __init__(self, znach):\n",
    "        self.znach = znach\n",
    "        self.prev = None\n",
    "        self.next = None\n",
    "\n",
    "\n",
    "class LinkedList:\n",
    "    def __init__(self):\n",
    "        self.head = None\n",
    "        self.tail = None\n",
    "        self.size = 0\n",
    "\n",
    "    def get_node(self, index):\n",
    "        tekush = self.head\n",
    "        for i in range(index):\n",
    "            tekush = tekush.next\n",
    "        return tekush\n",
    "\n",
    "    def get(self, index):\n",
    "        node = self.get_node(index)\n",
    "        return node.znach\n",
    "\n",
    "    def insert(self, index, znach):\n",
    "        newnode = Box(znach)\n",
    "\n",
    "        if self.size == 0:\n",
    "            self.head = newnode\n",
    "            self.tail = newnode\n",
    "\n",
    "        elif index == 0:\n",
    "            newnode.next = self.head\n",
    "            self.head.prev = newnode\n",
    "            self.head = newnode\n",
    "\n",
    "        elif index == self.size:\n",
    "            newnode.prev = self.tail\n",
    "            self.tail.next = newnode\n",
    "            self.tail = newnode\n",
    "\n",
    "        else:\n",
    "            nextnode = self.get_node(index)\n",
    "            prevnode = nextnode.prev\n",
    "            newnode.prev = prevnode\n",
    "            newnode.next = nextnode\n",
    "            prevnode.next = newnode\n",
    "            nextnode.prev = newnode\n",
    "\n",
    "        self.size += 1\n",
    "\n",
    "    def remove(self, index):\n",
    "        node = self.get_node(index)\n",
    "\n",
    "        if self.size == 1:\n",
    "            self.head = None\n",
    "            self.tail = None\n",
    "\n",
    "        elif node == self.head:\n",
    "            self.head = node.next\n",
    "            self.head.prev = None\n",
    "\n",
    "        elif node == self.tail:\n",
    "            self.tail = node.prev\n",
    "            self.tail.next = None\n",
    "\n",
    "        else:\n",
    "            node.prev.next = node.next\n",
    "            node.next.prev = node.prev\n",
    "\n",
    "        self.size -= 1\n",
    "\n",
    "    def len(self):\n",
    "        return self.size\n",
    "\n",
    "\n",
    "lst = LinkedList()\n",
    "lst.insert(0, 100)\n",
    "lst.insert(1, 200)\n",
    "lst.insert(1, 150)\n",
    "\n",
    "print(lst.get(0))\n",
    "print(lst.get(1))\n",
    "print(lst.len())\n",
    "\n",
    "lst.remove(1)\n",
    "print(lst.len())"
   ]
  },
  {
   "cell_type": "code",
   "execution_count": null,
   "id": "dc6db543-dd31-4edf-b0b2-2afe20fc0472",
   "metadata": {},
   "outputs": [],
   "source": []
  }
 ],
 "metadata": {
  "kernelspec": {
   "display_name": "Python 3 (ipykernel)",
   "language": "python",
   "name": "python3"
  },
  "language_info": {
   "codemirror_mode": {
    "name": "ipython",
    "version": 3
   },
   "file_extension": ".py",
   "mimetype": "text/x-python",
   "name": "python",
   "nbconvert_exporter": "python",
   "pygments_lexer": "ipython3",
   "version": "3.13.5"
  }
 },
 "nbformat": 4,
 "nbformat_minor": 5
}
