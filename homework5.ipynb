{
 "cells": [
  {
   "cell_type": "markdown",
   "id": "969b3041-45da-4e84-8ea0-83346b679bfe",
   "metadata": {},
   "source": [
    "# Задача 1"
   ]
  },
  {
   "cell_type": "code",
   "execution_count": 2,
   "id": "1b10073b-352e-4899-be3d-51f7f3b6d313",
   "metadata": {},
   "outputs": [
    {
     "name": "stdin",
     "output_type": "stream",
     "text": [
      " student_10221student_00246student_90789\n"
     ]
    },
    {
     "name": "stdout",
     "output_type": "stream",
     "text": [
      "907\n"
     ]
    }
   ],
   "source": [
    "a = input()\n",
    "q = str()\n",
    "k = []\n",
    "for i in range(1, len(a)):\n",
    "    if a[i-1] not in 'student_' and a[i] not in 'student_':\n",
    "        q += a[i-1]\n",
    "    elif a[i-1] not in 'student_' and a[i] in 'student_':\n",
    "        q += a[i-1]\n",
    "        k.append(q)\n",
    "        q = str()\n",
    "q += a[-1]\n",
    "k.append(q)\n",
    "number = []\n",
    "summ = []\n",
    "for i in range(len(k)):\n",
    "    d =k[i]\n",
    "    number.append(d[0:3])\n",
    "    summ.append(int(d[3:]))\n",
    "mx = max(summ)\n",
    "h = []\n",
    "for i in range(len(k)):\n",
    "    if summ[i] == mx:\n",
    "        h.append(number[i])\n",
    "print(*h, sep='-')"
   ]
  },
  {
   "cell_type": "markdown",
   "id": "2796d775-06a3-4c04-9215-ba26ee8a3b55",
   "metadata": {},
   "source": [
    "# Задача 2"
   ]
  },
  {
   "cell_type": "code",
   "execution_count": 3,
   "id": "63f47194-db88-4b38-86aa-af812bd993c1",
   "metadata": {},
   "outputs": [
    {
     "name": "stdin",
     "output_type": "stream",
     "text": [
      " 2 3\n"
     ]
    },
    {
     "name": "stdout",
     "output_type": "stream",
     "text": [
      "Длина окружности равно 12.57. Площадь круга составляет 139.63% от площади квадрата.\n"
     ]
    }
   ],
   "source": [
    "rokr,rkw = map(int,input().split())\n",
    "pi = 3.141592653589793\n",
    "l = 2*pi*rokr\n",
    "skr = pi*rokr*rokr\n",
    "skw = rkw**2\n",
    "otn = skr/skw*100\n",
    "l = round(l, 2)\n",
    "otn = round(otn, 2)\n",
    "otn = str(otn) + '%'\n",
    "print('Длина окружности равно ', l, '. ', 'Площадь круга составляет ', otn, ' от площади квадрата.', sep='')"
   ]
  },
  {
   "cell_type": "markdown",
   "id": "6d620c5a-e3b2-451e-920d-741378bc93c6",
   "metadata": {},
   "source": [
    "# Задача 3"
   ]
  },
  {
   "cell_type": "code",
   "execution_count": 4,
   "id": "7c0cba5e-d6a3-4b4a-8e77-9e89b493aea7",
   "metadata": {},
   "outputs": [
    {
     "name": "stdin",
     "output_type": "stream",
     "text": [
      " abc xyzqw\n"
     ]
    },
    {
     "name": "stdout",
     "output_type": "stream",
     "text": [
      "bac-yxzqw\n"
     ]
    }
   ],
   "source": [
    "a, b = map(str, input().split())\n",
    "def swap(a,b):\n",
    "    a1 = a[1] + a[0] + a[2:]\n",
    "    b1 = b[1] + b[0] + b[2:]\n",
    "    return(a1 + '-' + b1)\n",
    "print(swap(a,b))"
   ]
  },
  {
   "cell_type": "markdown",
   "id": "6e129254-f647-4c4e-8753-6f8494716614",
   "metadata": {},
   "source": [
    "# Задача 4"
   ]
  },
  {
   "cell_type": "code",
   "execution_count": 5,
   "id": "57f51dd6-fd21-4d3c-b1f4-61d89455c38d",
   "metadata": {},
   "outputs": [
    {
     "name": "stdin",
     "output_type": "stream",
     "text": [
      " PYThon3\n"
     ]
    },
    {
     "name": "stdout",
     "output_type": "stream",
     "text": [
      "PYTHON3\n"
     ]
    }
   ],
   "source": [
    "a = input()\n",
    "def zagl(a):\n",
    "    k = 0\n",
    "    z = []\n",
    "    if len(a)<4:\n",
    "        return a\n",
    "    else:\n",
    "        for i in range(len(a)):\n",
    "            if a[i].isalpha():\n",
    "                if a[i] in 'ABCDEFGHIJKLMNOPQRSTUVWXYZ':\n",
    "                    k += 1\n",
    "        if k<3:\n",
    "            return a\n",
    "        else:\n",
    "            return a.upper()\n",
    "\n",
    "print(zagl(a))"
   ]
  },
  {
   "cell_type": "markdown",
   "id": "025676a4-0783-489a-8d62-06239c35e141",
   "metadata": {},
   "source": [
    "# Задача 5"
   ]
  },
  {
   "cell_type": "code",
   "execution_count": 6,
   "id": "003a3169-b8c2-4a12-9b88-89a62bfae6e4",
   "metadata": {},
   "outputs": [
    {
     "name": "stdin",
     "output_type": "stream",
     "text": [
      " i\n",
      " Python\n"
     ]
    },
    {
     "name": "stdout",
     "output_type": "stream",
     "text": [
      "<i>Python</i>\n"
     ]
    }
   ],
   "source": [
    "teg = input()\n",
    "a = input()\n",
    "def tegg(teg, a):\n",
    "    q = ['a', 'abbr', 'b', 'body', 'caption', 'cite', 'code', 'div', 'form', 'h1', 'h2', 'h3', 'h4', 'h5', 'h6', 'header', 'i', 's']\n",
    "    if teg not in q:\n",
    "        return \"Введен неверный тег\"\n",
    "    else:\n",
    "        f = '<' + teg + '>' + a + '<' + '/' + teg + '>'\n",
    "        return f\n",
    "print(tegg(teg, a))"
   ]
  },
  {
   "cell_type": "markdown",
   "id": "94528d7e-174c-4003-9b32-1f33d75f01b7",
   "metadata": {},
   "source": [
    "# Задача 6"
   ]
  },
  {
   "cell_type": "code",
   "execution_count": 7,
   "id": "fc48b636-8172-499e-b742-4a79e02ab7bd",
   "metadata": {},
   "outputs": [
    {
     "name": "stdin",
     "output_type": "stream",
     "text": [
      " ab\n"
     ]
    },
    {
     "name": "stdout",
     "output_type": "stream",
     "text": [
      "97\n"
     ]
    }
   ],
   "source": [
    "q = input()\n",
    "if len(q) <= 2:\n",
    "    print(ord(q[0]))\n",
    "elif 2 < len(q) <= 10:\n",
    "    print(q[len(q)//2-1])\n",
    "    print(ord(q[0]) + ord(q[-1]) + ord(q[len(q)//2-1]))\n",
    "else:\n",
    "    print(ord(q[-1]))"
   ]
  }
 ],
 "metadata": {
  "kernelspec": {
   "display_name": "Python 3 (ipykernel)",
   "language": "python",
   "name": "python3"
  },
  "language_info": {
   "codemirror_mode": {
    "name": "ipython",
    "version": 3
   },
   "file_extension": ".py",
   "mimetype": "text/x-python",
   "name": "python",
   "nbconvert_exporter": "python",
   "pygments_lexer": "ipython3",
   "version": "3.13.5"
  }
 },
 "nbformat": 4,
 "nbformat_minor": 5
}
